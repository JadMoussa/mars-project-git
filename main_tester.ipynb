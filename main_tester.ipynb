{
 "cells": [
  {
   "cell_type": "code",
   "execution_count": 1,
   "metadata": {},
   "outputs": [
    {
     "name": "stdout",
     "output_type": "stream",
     "text": [
      "V1__prehook_create_schema.sql\n",
      "CREATE SCHEMA IF NOT EXISTS dw_reporting;\n",
      "\n",
      "V2__prehook_create_etl_watermark_table.sql\n",
      "CREATE TABLE etl_watermark (\n",
      "    id serial PRIMARY KEY,\n",
      "    last_processed_date DATE\n",
      ");\n",
      "V3__hook_create_dim_team.sql\n",
      "V4__hook_create_fact_groups.sql\n",
      "V5__hook_create_fact_winners.sql\n",
      "V6__hook_create_dimension_teams.sql\n",
      "V7__hook_create_dimension_allplayers.sql\n",
      "V8__hook_create_aggregate_matches.sql\n",
      "HTTP Error 404: Not Found\n"
     ]
    }
   ],
   "source": [
    "import prehook\n",
    "import lookups\n",
    "import database_handler\n",
    "\n",
    "db_session = database_handler.create_connection()\n",
    "prehook.execute(db_session)\n",
    "database_handler.close_connection(db_session)\n"
   ]
  }
 ],
 "metadata": {
  "kernelspec": {
   "display_name": "py310",
   "language": "python",
   "name": "python3"
  },
  "language_info": {
   "codemirror_mode": {
    "name": "ipython",
    "version": 3
   },
   "file_extension": ".py",
   "mimetype": "text/x-python",
   "name": "python",
   "nbconvert_exporter": "python",
   "pygments_lexer": "ipython3",
   "version": "3.8.18"
  },
  "orig_nbformat": 4
 },
 "nbformat": 4,
 "nbformat_minor": 2
}
