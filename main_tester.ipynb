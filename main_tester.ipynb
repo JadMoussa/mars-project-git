{
 "cells": [
  {
   "cell_type": "code",
   "execution_count": 2,
   "metadata": {},
   "outputs": [
    {
     "name": "stdout",
     "output_type": "stream",
     "text": [
      "Table name = player and file_id = 1WJdoQ8oQ7qETcbu-OOgkd6t7UAAN59sx\n",
      "Table name = winner and file_id = 1On6XlGXAdGk3vJkbdlM8A8xvQbG7_pRh\n",
      "Table name = group and file_id = 1WJdoQ8oQ7qETcbu-OOgkd6t7UAAN59sx\n",
      "Table name = team and file_id = 1XS9INg_SJ33Wp9MuTKi-PKCyKUJbgqH7\n"
     ]
    }
   ],
   "source": [
    "import prehook\n",
    "\n",
    "df_list = prehook.populate_dfs()\n",
    "\n",
    "for df in df_list:\n",
    "    table_name = df.get('table_name')\n",
    "    file_id = df.get('file_id')\n",
    "    message = f\"Table name = {table_name} and file_id = {file_id}\"\n",
    "    print(message)\n"
   ]
  }
 ],
 "metadata": {
  "kernelspec": {
   "display_name": "py310",
   "language": "python",
   "name": "python3"
  },
  "language_info": {
   "codemirror_mode": {
    "name": "ipython",
    "version": 3
   },
   "file_extension": ".py",
   "mimetype": "text/x-python",
   "name": "python",
   "nbconvert_exporter": "python",
   "pygments_lexer": "ipython3",
   "version": "3.9.18"
  },
  "orig_nbformat": 4
 },
 "nbformat": 4,
 "nbformat_minor": 2
}
