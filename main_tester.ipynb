{
 "cells": [
  {
   "cell_type": "code",
   "execution_count": 1,
   "metadata": {},
   "outputs": [
    {
     "ename": "AttributeError",
     "evalue": "module 'prehook' has no attribute 'populate_dfs'",
     "output_type": "error",
     "traceback": [
      "\u001b[1;31m---------------------------------------------------------------------------\u001b[0m",
      "\u001b[1;31mAttributeError\u001b[0m                            Traceback (most recent call last)",
      "\u001b[1;32mc:\\mars-project-git\\main_tester.ipynb Cell 1\u001b[0m line \u001b[0;36m3\n\u001b[0;32m      <a href='vscode-notebook-cell:/c%3A/mars-project-git/main_tester.ipynb#W0sZmlsZQ%3D%3D?line=0'>1</a>\u001b[0m \u001b[39mimport\u001b[39;00m \u001b[39mprehook\u001b[39;00m\n\u001b[1;32m----> <a href='vscode-notebook-cell:/c%3A/mars-project-git/main_tester.ipynb#W0sZmlsZQ%3D%3D?line=2'>3</a>\u001b[0m df_list \u001b[39m=\u001b[39m prehook\u001b[39m.\u001b[39;49mpopulate_dfs()\n\u001b[0;32m      <a href='vscode-notebook-cell:/c%3A/mars-project-git/main_tester.ipynb#W0sZmlsZQ%3D%3D?line=4'>5</a>\u001b[0m \u001b[39mfor\u001b[39;00m df \u001b[39min\u001b[39;00m df_list:\n\u001b[0;32m      <a href='vscode-notebook-cell:/c%3A/mars-project-git/main_tester.ipynb#W0sZmlsZQ%3D%3D?line=5'>6</a>\u001b[0m     table_name \u001b[39m=\u001b[39m df\u001b[39m.\u001b[39mget(\u001b[39m'\u001b[39m\u001b[39mtable_name\u001b[39m\u001b[39m'\u001b[39m)\n",
      "\u001b[1;31mAttributeError\u001b[0m: module 'prehook' has no attribute 'populate_dfs'"
     ]
    }
   ],
   "source": [
    "import prehook\n",
    "\n",
    "df_list = prehook.populate_dfs()\n",
    "\n",
    "for df in df_list:\n",
    "    table_name = df.get('table_name')\n",
    "    file_id = df.get('file_id')\n",
    "    message = f\"Table name = {table_name} and file_id = {file_id}\"\n",
    "    print(message)\n"
   ]
  },
  {
   "cell_type": "code",
   "execution_count": 9,
   "metadata": {},
   "outputs": [
    {
     "name": "stdout",
     "output_type": "stream",
     "text": [
      "column \"id\" specified more than once\n",
      "\n"
     ]
    }
   ],
   "source": [
    "import prehook\n",
    "import lookups\n",
    "import database_handler\n",
    "\n",
    "db_session = database_handler.create_connection()\n",
    "prehook.execute(db_session)\n",
    "database_handler.close_connection(db_session)\n"
   ]
  }
 ],
 "metadata": {
  "kernelspec": {
   "display_name": "py310",
   "language": "python",
   "name": "python3"
  },
  "language_info": {
   "codemirror_mode": {
    "name": "ipython",
    "version": 3
   },
   "file_extension": ".py",
   "mimetype": "text/x-python",
   "name": "python",
   "nbconvert_exporter": "python",
   "pygments_lexer": "ipython3",
   "version": "3.9.18"
  },
  "orig_nbformat": 4
 },
 "nbformat": 4,
 "nbformat_minor": 2
}
