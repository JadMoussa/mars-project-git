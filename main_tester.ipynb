{
 "cells": [
  {
   "cell_type": "code",
   "execution_count": 4,
   "metadata": {},
   "outputs": [],
   "source": [
    "import database_handler\n",
    "db_session = database_handler.create_connection(None)\n",
    "\n",
    "# # Create a database session\n",
    "# database_handler.create_connection(\"your_database_connection_parameters\")\n",
    "\n",
    "# # Your ETL logic and operations go here\n",
    "# ...\n"
   ]
  },
  {
   "cell_type": "code",
   "execution_count": 15,
   "metadata": {},
   "outputs": [
    {
     "ename": "SyntaxError",
     "evalue": "(unicode error) 'unicodeescape' codec can't decode bytes in position 2-3: truncated \\UXXXXXXXX escape (921342391.py, line 3)",
     "output_type": "error",
     "traceback": [
      "\u001b[1;36m  Cell \u001b[1;32mIn[15], line 3\u001b[1;36m\u001b[0m\n\u001b[1;33m    database_handler.read_data_as_dataframe('csv', \"C:\\Users\\User\\Downloads\\Fifa_world_cup_matches.csv\",encoding='utf-8')\u001b[0m\n\u001b[1;37m                                                                                                       ^\u001b[0m\n\u001b[1;31mSyntaxError\u001b[0m\u001b[1;31m:\u001b[0m (unicode error) 'unicodeescape' codec can't decode bytes in position 2-3: truncated \\UXXXXXXXX escape\n"
     ]
    }
   ],
   "source": [
    "import database_handler \n",
    "\n",
    "database_handler.read_data_as_dataframe('csv', \"C:\\Users\\User\\Downloads\\Fifa_world_cup_matches.csv\")"
   ]
  },
  {
   "cell_type": "code",
   "execution_count": null,
   "metadata": {},
   "outputs": [
    {
     "ename": "",
     "evalue": "",
     "output_type": "error",
     "traceback": [
      "\u001b[1;31mRunning cells with 'c:\\Program Files (x86)\\Microsoft Visual Studio\\Shared\\Python39_64\\python.exe' requires the ipykernel package.\n",
      "\u001b[1;31mRun the following command to install 'ipykernel' into the Python environment. \n",
      "\u001b[1;31mCommand: '\"c:/Program Files (x86)/Microsoft Visual Studio/Shared/Python39_64/python.exe\" -m pip install ipykernel -U --user --force-reinstall'"
     ]
    }
   ],
   "source": [
    "import data_handler\n",
    "\n",
    "film_dataframe = data_handler.returns_query_as_dataframe(db_session, 'SELECT * FROM dvd_rental.film')\n"
   ]
  },
  {
   "cell_type": "code",
   "execution_count": null,
   "metadata": {},
   "outputs": [
    {
     "ename": "",
     "evalue": "",
     "output_type": "error",
     "traceback": [
      "\u001b[1;31mRunning cells with 'c:\\Program Files (x86)\\Microsoft Visual Studio\\Shared\\Python39_64\\python.exe' requires the ipykernel package.\n",
      "\u001b[1;31mRun the following command to install 'ipykernel' into the Python environment. \n",
      "\u001b[1;31mCommand: '\"c:/Program Files (x86)/Microsoft Visual Studio/Shared/Python39_64/python.exe\" -m pip install ipykernel -U --user --force-reinstall'"
     ]
    }
   ],
   "source": [
    "import lookups\n",
    "import pandas_handler\n",
    "def return_dataframe_info(dataframe):\n",
    "    info_dictionary = dict()\n",
    "    info_dictionary['dataframe_length'] = len(dataframe)\n",
    "    info_dictionary['total_count_of_table_id'] = int(dataframe.describe().iloc[0][0])\n",
    "    return info_dictionary\n",
    "\n",
    "def return_dataframe_subset_from_to_location(dataframe, from_loc, to_loc):\n",
    "    return dataframe.loc[from_loc,to_loc]\n",
    "def return_filtered_dataframe(dataframe, filter_field, filter_value):\n",
    "    return dataframe[dataframe[filter_field.value] > filter_value]"
   ]
  },
  {
   "cell_type": "code",
   "execution_count": null,
   "metadata": {},
   "outputs": [],
   "source": [
    "import database_handler\n",
    "database_handler.create_connection(None)\n",
    "    \n"
   ]
  }
 ],
 "metadata": {
  "kernelspec": {
   "display_name": "py310",
   "language": "python",
   "name": "python3"
  },
  "language_info": {
   "codemirror_mode": {
    "name": "ipython",
    "version": 3
   },
   "file_extension": ".py",
   "mimetype": "text/x-python",
   "name": "python",
   "nbconvert_exporter": "python",
   "pygments_lexer": "ipython3",
   "version": "3.9.18"
  },
  "orig_nbformat": 4
 },
 "nbformat": 4,
 "nbformat_minor": 2
}
